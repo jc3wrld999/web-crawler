{
 "cells": [
  {
   "cell_type": "markdown",
   "id": "4a876529",
   "metadata": {},
   "source": [
    "## pdf 파일 크롤링하고 번역하기"
   ]
  },
  {
   "cell_type": "code",
   "execution_count": null,
   "id": "95f4dd8d",
   "metadata": {},
   "outputs": [],
   "source": [
    "!pip install PyPDF2 pdf"
   ]
  },
  {
   "cell_type": "code",
   "execution_count": null,
   "id": "4fbc3a10",
   "metadata": {},
   "outputs": [],
   "source": [
    "from PyPDF2 import PdfReader\n",
    "import requests\n",
    "import io\n",
    "from bs4 import BeautifulSoup\n",
    "import googletrans\n",
    "import json\n",
    "import time\n",
    "\n",
    "script = \"\"\n",
    "translator = googletrans.Translator()\n",
    "\n",
    "urlpdf = 'PDF URL'\n",
    "\n",
    "response = requests.get(urlpdf)\n",
    "    \n",
    "with io.BytesIO(response.content) as f:\n",
    "    pdf = PdfReader(f)\n",
    "    last_page = len(pdf.pages)\n",
    "    print(last_page)\n",
    "    for i in range(1, len(pdf.pages)):\n",
    "#         for image in pdf.pages[i].images:\n",
    "#             with open(image.name, \"wb\") as fp:\n",
    "#                 fp.write(image.data)\n",
    "        page = pdf.pages[i]\n",
    "        page_content = str(page.extract_text())\n",
    "        if len(page_content) >= 5000:\n",
    "            script += translator.translate(page_content[:5000], dest='ko').text\n",
    "            script += translator.translate(page_content[5000:], dest='ko').text\n",
    "        elif len(page_content) > 0:\n",
    "            script += translator.translate(str(page_content), dest='ko').text\n",
    "#         print(type(page_content))\n",
    "#         script += translator.translate(page_content, dest='ko').text\n"
   ]
  },
  {
   "cell_type": "code",
   "execution_count": null,
   "id": "80afe224",
   "metadata": {},
   "outputs": [],
   "source": [
    "# PdfReadError: EOF marker not found\n",
    "def reset_eof_of_pdf_return_stream(pdf_stream_in:list):\n",
    "    # EOF의 줄 위치 찾기\n",
    "    for i, x in enumerate(txt[::-1]):\n",
    "        if b'%%EOF' in x:\n",
    "            actual_line = len(pdf_stream_in)-i\n",
    "            print(f'라인 위치 {-i}에서 발견된 EOF = 실제 {actual_line}, 값 {x}')\n",
    "            break\n",
    "\n",
    "    # 해당 지점까지 목록을 반환\n",
    "    return pdf_stream_in[:actual_line]\n",
    "\n",
    "with open('원본.pdf', 'rb') as p:\n",
    "    txt = (p.readlines())\n",
    "\n",
    "# 엔드포인트 수정\n",
    "txtx = reset_eof_of_pdf_return_stream(txt)\n",
    "\n",
    "# 새파일 열기\n",
    "with open('eof제거한 수정본.pdf', 'wb') as f:\n",
    "    f.writelines(txtx)\n",
    "    \n",
    "script = \"\"\n",
    "\n",
    "with open('원본.pdf', 'rb') as f:\n",
    "    pdf = PdfReader(f)\n",
    "    last_page = len(pdf.pages)\n",
    "    print(last_page)\n",
    "    for i in range(1, len(pdf.pages)):\n",
    "        page = pdf.pages[i]\n",
    "        page_content = str(page.extract_text())\n",
    "        if len(page_content) >= 5000:\n",
    "            script += translator.translate(page_content[:5000], dest='ko').text\n",
    "            script += translator.translate(page_content[5000:], dest='ko').text\n",
    "        elif len(page_content) > 0:\n",
    "            script += translator.translate(str(page_content), dest='ko').text"
   ]
  },
  {
   "cell_type": "code",
   "execution_count": null,
   "id": "37275a53",
   "metadata": {},
   "outputs": [],
   "source": [
    "# 메일로 전송\n",
    "import smtplib\n",
    "from email.mime.text import MIMEText\n",
    "\n",
    "smtp_info = {      \n",
    "    'gmail.com': ('smtp.gmail.com', 587),\n",
    "    'naver.com': ('smtp.naver.com', 587),\n",
    "    'daum.net': ('smtp.daum.net', 465),\n",
    "    'hanmail.net': ('smtp.daum.net', 465),\n",
    "    'nate.com': ('smtp.mail.nate.com', 465),\n",
    "    'outlook.com': ('smtp.outlook.com', 587),\n",
    "}\n",
    "smtp = smtplib.SMTP('smtp.gmail.com', 587)\n",
    "smtp.connect('smtp.gmail.com', 587)\n",
    "# smtp = smtplib.SMTP_SSL('smtp.gmail.com', 465)\n",
    "smtp.ehlo()      # say Hello\n",
    "smtp.starttls()  # TLS 사용시 필요\n",
    "smtp.login('EMAIL', 'EMAIL TOKEN')\n",
    "\n",
    "msg = MIMEText(script)\n",
    "# msg = EmailMessage()\n",
    "# msg.set_content('이메일 본문')\n",
    "msg['Subject'] = '제목'\n",
    "msg['From'] = 'EMAIL'\n",
    "msg['To'] = 'EMAIL'\n",
    "smtp.sendmail('EMAIL', 'EMAIL', msg.as_string())\n",
    "# smtp.send_message(msg)\n",
    " \n",
    "smtp.quit()"
   ]
  }
 ],
 "metadata": {
  "kernelspec": {
   "display_name": "Python 3 (ipykernel)",
   "language": "python",
   "name": "python3"
  },
  "language_info": {
   "codemirror_mode": {
    "name": "ipython",
    "version": 3
   },
   "file_extension": ".py",
   "mimetype": "text/x-python",
   "name": "python",
   "nbconvert_exporter": "python",
   "pygments_lexer": "ipython3",
   "version": "3.9.5"
  }
 },
 "nbformat": 4,
 "nbformat_minor": 5
}
