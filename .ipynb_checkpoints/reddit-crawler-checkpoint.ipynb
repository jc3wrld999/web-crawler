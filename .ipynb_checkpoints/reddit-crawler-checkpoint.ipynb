{
 "cells": [
  {
   "cell_type": "code",
   "execution_count": 1,
   "id": "75f0c152",
   "metadata": {},
   "outputs": [],
   "source": [
    "import praw\n",
    "import json\n",
    "import googletrans\n",
    "import pandas as pd\n",
    "import datetime as dt\n",
    "from psaw import PushshiftAPI"
   ]
  },
  {
   "cell_type": "code",
   "execution_count": null,
   "id": "ad8ad16a",
   "metadata": {},
   "outputs": [],
   "source": [
    "client_id = \"CLIENT ID\"\n",
    "client_secret = \"CLIENT PASSWORD\"\n",
    "user_agent = \"APP NAME\"\n",
    "username = \"ID\"\n",
    "password = \"PASSWORD\""
   ]
  },
  {
   "cell_type": "code",
   "execution_count": 3,
   "id": "d7b133b6",
   "metadata": {},
   "outputs": [],
   "source": [
    "reddit = praw.Reddit(client_id=client_id,\n",
    "                    client_secret=client_secret,\n",
    "                    user_agent=user_agent,\n",
    "                    username=username,\n",
    "                    password=password)"
   ]
  },
  {
   "cell_type": "code",
   "execution_count": 4,
   "id": "f79425d5",
   "metadata": {},
   "outputs": [],
   "source": [
    "datascience = reddit.subreddit(\"datascience\")"
   ]
  },
  {
   "cell_type": "code",
   "execution_count": 5,
   "id": "f57c9787",
   "metadata": {},
   "outputs": [],
   "source": [
    "hot = datascience.hot(limit=10)\n",
    "new = datascience.new(limit=10)\n",
    "controversial = datascience.controversial(limit=10)\n",
    "top = datascience.top(limit=10)\n",
    "gilded = datascience.gilded(limit=10)"
   ]
  },
  {
   "cell_type": "code",
   "execution_count": null,
   "id": "1c7a15c9",
   "metadata": {},
   "outputs": [],
   "source": [
    "type(hot)"
   ]
  },
  {
   "cell_type": "code",
   "execution_count": null,
   "id": "f81c58f8",
   "metadata": {},
   "outputs": [],
   "source": [
    "x = next(hot)"
   ]
  },
  {
   "cell_type": "code",
   "execution_count": null,
   "id": "176bdafe",
   "metadata": {},
   "outputs": [],
   "source": [
    "dir(x)"
   ]
  },
  {
   "cell_type": "code",
   "execution_count": 6,
   "id": "d97e5840",
   "metadata": {},
   "outputs": [
    {
     "name": "stdout",
     "output_type": "stream",
     "text": [
      "[Submission(id='10oazg7'), Submission(id='10xjwac'), Submission(id='10xp54e'), Submission(id='10x519c'), Submission(id='10xgvhj'), Submission(id='10xqtn2'), Submission(id='10xiexu'), Submission(id='10xmm87'), Submission(id='10xj2vv'), Submission(id='10w6g7n'), Submission(id='10uy5z1'), Submission(id='10xcnjs'), Submission(id='10xhyye'), Submission(id='10wr7ps'), Submission(id='10wzrer'), Submission(id='10xnwpe'), Submission(id='10xf4vc'), Submission(id='10xq8tz'), Submission(id='10xpulq'), Submission(id='10xphdz'), Submission(id='a3oicn'), Submission(id='10v3uiw'), Submission(id='10x5a5w'), Submission(id='10xojhr'), Submission(id='10x3rdl'), Submission(id='10x93hy'), Submission(id='10xkd5h'), Submission(id='10xhb4d'), Submission(id='10xnxs9'), Submission(id='10xm2l4'), Submission(id='k04tbb'), Submission(id='po1fow'), Submission(id='10xkfmq'), Submission(id='10wwazx'), Submission(id='10wr00e'), Submission(id='10xkrkk'), Submission(id='10x1ow9'), Submission(id='10xkgom'), Submission(id='10xcwpt'), Submission(id='10wwd21'), Submission(id='yrp6pq'), Submission(id='10xklx5'), Submission(id='10xpj4y'), Submission(id='10wr4fi'), Submission(id='10wuzt2'), Submission(id='10wu7tf'), Submission(id='10xa22b'), Submission(id='10x98l1'), Submission(id='10x5htr'), Submission(id='10xi8kz'), Submission(id='h89gme'), Submission(id='10x9t6k'), Submission(id='10x5pbl'), Submission(id='10wv68n'), Submission(id='10xq7vr'), Submission(id='10x9woj'), Submission(id='10xn8df'), Submission(id='10wy13o'), Submission(id='10wlxk2'), Submission(id='10wuqf2'), Submission(id='syyzu9'), Submission(id='10r6f7a'), Submission(id='10xcr9o'), Submission(id='10xap8a'), Submission(id='10wn44i'), Submission(id='10xhb5t'), Submission(id='10wx906'), Submission(id='10xhg0x'), Submission(id='10wxmjj'), Submission(id='10xhtrg')]\n"
     ]
    }
   ],
   "source": [
    "subreds = [\"MachineLearning\", \"datascience\", \"hacking\", \"Hacking_Tutorials\", \"ROS\", \"gamedev\", \"Hiphopcirclejerk\"]\n",
    "\n",
    "hot = []\n",
    "for i in subreds:\n",
    "    subred = reddit.subreddit(i)\n",
    "    _hot = subred.hot(limit=10)\n",
    "    for k in _hot:\n",
    "        hot.append(k)\n",
    "print(hot)"
   ]
  },
  {
   "cell_type": "code",
   "execution_count": 7,
   "id": "769106f8",
   "metadata": {},
   "outputs": [],
   "source": [
    "translator = googletrans.Translator()\n",
    "posts = []\n",
    "for i in hot:\n",
    "    posts.append([i.id, i.subreddit, translator.translate(i.title, dest='ko').text, i.selftext, i.url, i.score, i.num_comments])\n",
    "        \n",
    "    \n",
    "posts = pd.DataFrame(posts, columns=['id', 'subreddit', 'title', 'body', 'url', 'score', 'num_comments'])"
   ]
  },
  {
   "cell_type": "code",
   "execution_count": 8,
   "id": "41488c53",
   "metadata": {
    "scrolled": true
   },
   "outputs": [
    {
     "data": {
      "text/html": [
       "<div>\n",
       "<style scoped>\n",
       "    .dataframe tbody tr th:only-of-type {\n",
       "        vertical-align: middle;\n",
       "    }\n",
       "\n",
       "    .dataframe tbody tr th {\n",
       "        vertical-align: top;\n",
       "    }\n",
       "\n",
       "    .dataframe thead th {\n",
       "        text-align: right;\n",
       "    }\n",
       "</style>\n",
       "<table border=\"1\" class=\"dataframe\">\n",
       "  <thead>\n",
       "    <tr style=\"text-align: right;\">\n",
       "      <th></th>\n",
       "      <th>id</th>\n",
       "      <th>subreddit</th>\n",
       "      <th>title</th>\n",
       "      <th>body</th>\n",
       "      <th>url</th>\n",
       "      <th>score</th>\n",
       "      <th>num_comments</th>\n",
       "    </tr>\n",
       "  </thead>\n",
       "  <tbody>\n",
       "    <tr>\n",
       "      <th>0</th>\n",
       "      <td>10oazg7</td>\n",
       "      <td>MachineLearning</td>\n",
       "      <td>[D] 간단한 질문 스레드</td>\n",
       "      <td>Please post your questions here instead of cre...</td>\n",
       "      <td>https://www.reddit.com/r/MachineLearning/comme...</td>\n",
       "      <td>7</td>\n",
       "      <td>103</td>\n",
       "    </tr>\n",
       "    <tr>\n",
       "      <th>1</th>\n",
       "      <td>10xjwac</td>\n",
       "      <td>MachineLearning</td>\n",
       "      <td>[D] 이미지 모델의 출현 능력이 있습니까?</td>\n",
       "      <td>Just finished reading the Stanford/Google surv...</td>\n",
       "      <td>https://www.reddit.com/r/MachineLearning/comme...</td>\n",
       "      <td>38</td>\n",
       "      <td>10</td>\n",
       "    </tr>\n",
       "    <tr>\n",
       "      <th>2</th>\n",
       "      <td>10xp54e</td>\n",
       "      <td>MachineLearning</td>\n",
       "      <td>[P] Kernl에서 Openai Whisper가 큰 2 배 빠른 전사를 받으십시오.</td>\n",
       "      <td>We are happy to announce the support of OpenAI...</td>\n",
       "      <td>https://www.reddit.com/r/MachineLearning/comme...</td>\n",
       "      <td>11</td>\n",
       "      <td>6</td>\n",
       "    </tr>\n",
       "    <tr>\n",
       "      <th>3</th>\n",
       "      <td>10x519c</td>\n",
       "      <td>MachineLearning</td>\n",
       "      <td>[r] pix2pixzero- 제로 샷 이미지-이미지 변환</td>\n",
       "      <td></td>\n",
       "      <td>https://arxiv.org/pdf/2302.03027.pdf</td>\n",
       "      <td>98</td>\n",
       "      <td>10</td>\n",
       "    </tr>\n",
       "    <tr>\n",
       "      <th>4</th>\n",
       "      <td>10xgvhj</td>\n",
       "      <td>MachineLearning</td>\n",
       "      <td>[D] 매우 나쁜 품질 사운드 레코딩을 개선하는 데 사용할 수있는 AI 모델이 있습...</td>\n",
       "      <td>I have got old lecture recordings\\n\\nI want to...</td>\n",
       "      <td>https://www.reddit.com/r/MachineLearning/comme...</td>\n",
       "      <td>14</td>\n",
       "      <td>13</td>\n",
       "    </tr>\n",
       "    <tr>\n",
       "      <th>...</th>\n",
       "      <td>...</td>\n",
       "      <td>...</td>\n",
       "      <td>...</td>\n",
       "      <td>...</td>\n",
       "      <td>...</td>\n",
       "      <td>...</td>\n",
       "      <td>...</td>\n",
       "    </tr>\n",
       "    <tr>\n",
       "      <th>65</th>\n",
       "      <td>10xhb5t</td>\n",
       "      <td>Hiphopcirclejerk</td>\n",
       "      <td>Bruh 뭐</td>\n",
       "      <td></td>\n",
       "      <td>https://i.redd.it/btlbncfkw3ha1.jpg</td>\n",
       "      <td>19</td>\n",
       "      <td>3</td>\n",
       "    </tr>\n",
       "    <tr>\n",
       "      <th>66</th>\n",
       "      <td>10wx906</td>\n",
       "      <td>Hiphopcirclejerk</td>\n",
       "      <td>진짜 랩</td>\n",
       "      <td></td>\n",
       "      <td>https://i.redd.it/j5yq0kpch0ha1.jpg</td>\n",
       "      <td>136</td>\n",
       "      <td>5</td>\n",
       "    </tr>\n",
       "    <tr>\n",
       "      <th>67</th>\n",
       "      <td>10xhg0x</td>\n",
       "      <td>Hiphopcirclejerk</td>\n",
       "      <td>Lil B는 문화를 위해 더 많은 일을했고 Kendrick Lamar</td>\n",
       "      <td>no explanation.</td>\n",
       "      <td>https://www.reddit.com/r/Hiphopcirclejerk/comm...</td>\n",
       "      <td>10</td>\n",
       "      <td>3</td>\n",
       "    </tr>\n",
       "    <tr>\n",
       "      <th>68</th>\n",
       "      <td>10wxmjj</td>\n",
       "      <td>Hiphopcirclejerk</td>\n",
       "      <td>Ude</td>\n",
       "      <td></td>\n",
       "      <td>https://i.redd.it/r9v51dc6k0ha1.jpg</td>\n",
       "      <td>65</td>\n",
       "      <td>2</td>\n",
       "    </tr>\n",
       "    <tr>\n",
       "      <th>69</th>\n",
       "      <td>10xhtrg</td>\n",
       "      <td>Hiphopcirclejerk</td>\n",
       "      <td>켄드릭은 너무 많은 단어를 말합니다</td>\n",
       "      <td>I think Kenny is a nerd</td>\n",
       "      <td>https://i.redd.it/v2itnzyl04ha1.jpg</td>\n",
       "      <td>7</td>\n",
       "      <td>4</td>\n",
       "    </tr>\n",
       "  </tbody>\n",
       "</table>\n",
       "<p>70 rows × 7 columns</p>\n",
       "</div>"
      ],
      "text/plain": [
       "         id         subreddit  \\\n",
       "0   10oazg7   MachineLearning   \n",
       "1   10xjwac   MachineLearning   \n",
       "2   10xp54e   MachineLearning   \n",
       "3   10x519c   MachineLearning   \n",
       "4   10xgvhj   MachineLearning   \n",
       "..      ...               ...   \n",
       "65  10xhb5t  Hiphopcirclejerk   \n",
       "66  10wx906  Hiphopcirclejerk   \n",
       "67  10xhg0x  Hiphopcirclejerk   \n",
       "68  10wxmjj  Hiphopcirclejerk   \n",
       "69  10xhtrg  Hiphopcirclejerk   \n",
       "\n",
       "                                                title  \\\n",
       "0                                      [D] 간단한 질문 스레드   \n",
       "1                            [D] 이미지 모델의 출현 능력이 있습니까?   \n",
       "2     [P] Kernl에서 Openai Whisper가 큰 2 배 빠른 전사를 받으십시오.   \n",
       "3                    [r] pix2pixzero- 제로 샷 이미지-이미지 변환   \n",
       "4   [D] 매우 나쁜 품질 사운드 레코딩을 개선하는 데 사용할 수있는 AI 모델이 있습...   \n",
       "..                                                ...   \n",
       "65                                             Bruh 뭐   \n",
       "66                                               진짜 랩   \n",
       "67             Lil B는 문화를 위해 더 많은 일을했고 Kendrick Lamar   \n",
       "68                                                Ude   \n",
       "69                                켄드릭은 너무 많은 단어를 말합니다   \n",
       "\n",
       "                                                 body  \\\n",
       "0   Please post your questions here instead of cre...   \n",
       "1   Just finished reading the Stanford/Google surv...   \n",
       "2   We are happy to announce the support of OpenAI...   \n",
       "3                                                       \n",
       "4   I have got old lecture recordings\\n\\nI want to...   \n",
       "..                                                ...   \n",
       "65                                                      \n",
       "66                                                      \n",
       "67                                    no explanation.   \n",
       "68                                                      \n",
       "69                            I think Kenny is a nerd   \n",
       "\n",
       "                                                  url  score  num_comments  \n",
       "0   https://www.reddit.com/r/MachineLearning/comme...      7           103  \n",
       "1   https://www.reddit.com/r/MachineLearning/comme...     38            10  \n",
       "2   https://www.reddit.com/r/MachineLearning/comme...     11             6  \n",
       "3                https://arxiv.org/pdf/2302.03027.pdf     98            10  \n",
       "4   https://www.reddit.com/r/MachineLearning/comme...     14            13  \n",
       "..                                                ...    ...           ...  \n",
       "65                https://i.redd.it/btlbncfkw3ha1.jpg     19             3  \n",
       "66                https://i.redd.it/j5yq0kpch0ha1.jpg    136             5  \n",
       "67  https://www.reddit.com/r/Hiphopcirclejerk/comm...     10             3  \n",
       "68                https://i.redd.it/r9v51dc6k0ha1.jpg     65             2  \n",
       "69                https://i.redd.it/v2itnzyl04ha1.jpg      7             4  \n",
       "\n",
       "[70 rows x 7 columns]"
      ]
     },
     "execution_count": 8,
     "metadata": {},
     "output_type": "execute_result"
    }
   ],
   "source": [
    "posts"
   ]
  },
  {
   "cell_type": "code",
   "execution_count": 12,
   "id": "43c9ce45",
   "metadata": {},
   "outputs": [],
   "source": [
    "posts.to_csv(r'reddit-crawling-data.csv', index=False)"
   ]
  }
 ],
 "metadata": {
  "kernelspec": {
   "display_name": "Python 3 (ipykernel)",
   "language": "python",
   "name": "python3"
  },
  "language_info": {
   "codemirror_mode": {
    "name": "ipython",
    "version": 3
   },
   "file_extension": ".py",
   "mimetype": "text/x-python",
   "name": "python",
   "nbconvert_exporter": "python",
   "pygments_lexer": "ipython3",
   "version": "3.9.5"
  }
 },
 "nbformat": 4,
 "nbformat_minor": 5
}
